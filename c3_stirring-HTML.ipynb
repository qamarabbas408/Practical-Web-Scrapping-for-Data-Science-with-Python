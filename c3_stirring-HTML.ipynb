{
 "cells": [
  {
   "cell_type": "code",
   "execution_count": 13,
   "metadata": {},
   "outputs": [],
   "source": [
    "import requests\n",
    "from bs4 import BeautifulSoup\n",
    "url = 'https://en.wikipedia.org/w/index.php' + \\\n",
    "'?title=List_of_Game_of_Thrones_episodes&oldid=802553687'\n",
    "r = requests.get(url)\n",
    "html_contents = r.text\n",
    "html_soup = BeautifulSoup(html_contents, 'html.parser')\n"
   ]
  },
  {
   "cell_type": "code",
   "execution_count": null,
   "metadata": {},
   "outputs": [],
   "source": [
    "\n",
    "\n",
    "first_h1 = html_soup.find('h1') # Find the first h1 tag\n",
    "print(str(first_h1)) # Prints out: <h1 class=\"firstHeading\" id=\"firstHeading\" lang=\"en\">\n",
    "print(first_h1.name) # h1\n",
    "print(first_h1.contents) # list[prints  contents inside h1 tag including nested tags]\n",
    "print(first_h1.text) # only text not tags type str. \n",
    "print(first_h1.get_text()) # same as .text type str. \n",
    "print(first_h1.attrs) #attributes of h1 type dict()\n",
    "\n",
    "print(first_h1.attrs['id']) # value of id attribute\n",
    "print(first_h1['id']) # same as above\n",
    "print(first_h1.get('id')) # same as above\n",
    "\n",
    "# print('------------ CITATIONS ------------')\n",
    "# # Find the first five cite elements with a citation class\n",
    "cites = html_soup.find_all('cite', class_='citation', limit=5)\n",
    "for citation in cites:\n",
    "    print(citation.get_text())\n",
    "    # Inside of this cite element, find the first a tag\n",
    "    link = citation.find('a')\n",
    "    # ... and show its URL\n",
    "    print(link.get('href'))\n",
    "    print()"
   ]
  },
  {
   "cell_type": "code",
   "execution_count": null,
   "metadata": {},
   "outputs": [],
   "source": [
    "import requests\n",
    "from bs4 import BeautifulSoup\n",
    "url = 'https://en.wikipedia.org/w/index.php' + \\\n",
    "'?title=List_of_Game_of_Thrones_episodes&oldid=802553687'\n",
    "r = requests.get(url)\n",
    "html_contents = r.text\n",
    "html_soup = BeautifulSoup(html_contents, 'html.parser')\n",
    "# We'll use a list to store our episode list\n",
    "episodes = []\n",
    "ep_tables = html_soup.find_all('table', class_='wikiepisodetable')\n",
    "for table in ep_tables:\n",
    "    headers = []\n",
    "    rows = table.find_all('tr')\n",
    "    # Start by fetching the header cells from the first row to determine\n",
    "    # the field names\n",
    "    for header in table.find('tr').find_all('th'):\n",
    "        headers.append(header.text)\n",
    "        # Then go through all the rows except the first one\n",
    "    for row in table.find_all('tr')[1:]:\n",
    "        values = []\n",
    "    # And get the column cells, the first one being inside a th-tag\n",
    "        for col in row.find_all(['th','td']):\n",
    "            values.append(col.text)\n",
    "        if values:\n",
    "            episode_dict = {headers[i]: values[i] for i in\n",
    "            range(len(values))}\n",
    "            episodes.append(episode_dict)\n",
    "# Show the results\n",
    "for episode in episodes:\n",
    "    print(episode)\n",
    "    print()"
   ]
  },
  {
   "cell_type": "markdown",
   "metadata": {},
   "source": [
    "<b>Exercise</b>\n",
    "<pre>• Try extracting all links from the page as well as where they point to\n",
    "(tip: look for the “href” attribute in “<a>” tags).\n",
    "• Try extracting all images from the page.\n",
    "• Try extracting the “ratings” table from the page. </pre>"
   ]
  },
  {
   "cell_type": "code",
   "execution_count": 9,
   "metadata": {},
   "outputs": [
    {
     "name": "stdout",
     "output_type": "stream",
     "text": [
      "/wiki/Wikipedia:Featured_lists\n",
      "/wiki/Help:Page_history\n",
      "/wiki/User:Alex_21\n",
      "/wiki/User_talk:Alex_21\n",
      "/wiki/Special:Contributions/Alex_21\n",
      "/wiki/Draft:Game_of_Thrones_(season_8)\n",
      "/wiki/Help:Permanent_link\n",
      "https://en.wikipedia.org/wiki/List_of_Game_of_Thrones_episodes\n",
      "/wiki/User:Alex_21\n"
     ]
    }
   ],
   "source": [
    "soap=BeautifulSoup(html_contents,'html.parser')\n",
    "links=soap.findAll('a',limit=10)\n",
    "for link in links:\n",
    "    if link is None or len(link) < 1: continue\n",
    "    print(link.get('href'))"
   ]
  },
  {
   "cell_type": "code",
   "execution_count": 10,
   "metadata": {},
   "outputs": [
    {
     "name": "stdout",
     "output_type": "stream",
     "text": [
      "//upload.wikimedia.org/wikipedia/en/thumb/e/e7/Cscr-featured.svg/20px-Cscr-featured.svg.png\n",
      "//upload.wikimedia.org/wikipedia/commons/thumb/2/2e/Game_of_Thrones_2011_logo.svg/300px-Game_of_Thrones_2011_logo.svg.png\n",
      "//upload.wikimedia.org/wikipedia/en/thumb/9/96/Symbol_category_class.svg/16px-Symbol_category_class.svg.png\n",
      "//upload.wikimedia.org/wikipedia/commons/thumb/4/41/Global_thinking.svg/10px-Global_thinking.svg.png\n",
      "//en.wikipedia.org/wiki/Special:CentralAutoLogin/start?type=1x1\n",
      "/static/images/footer/wikimedia-button.png\n",
      "/static/images/footer/poweredby_mediawiki_88x31.png\n"
     ]
    }
   ],
   "source": [
    "images=soap.findAll('img',limit=10)\n",
    "for image in images:\n",
    "    print(image.get('src'))"
   ]
  },
  {
   "cell_type": "markdown",
   "metadata": {},
   "source": [
    "<b>select() function </b> It works same as find or findall but works like css selectors"
   ]
  },
  {
   "cell_type": "code",
   "execution_count": 42,
   "metadata": {},
   "outputs": [
    {
     "name": "stdout",
     "output_type": "stream",
     "text": [
      "[]\n",
      "[<a class=\"mw-redirect\" href=\"/wiki/Television_drama\" title=\"Television drama\">drama</a>]\n"
     ]
    }
   ],
   "source": [
    "# Find all <a> tags\n",
    "links=html_soup.select('a') #list type\n",
    "# Find the element with the info id\n",
    "id=html_soup.select('#mw-mf-viewport')\n",
    "print(id)\n",
    "\n",
    "# # Find <div> tags with both classa and classb CSS classes\n",
    "html_soup.select('section.floatright.image')\n",
    "\n",
    "# Find <a> tags with an href attribute starting with http://example.com/\n",
    "link=html_soup.select('a[href^=\"/wiki/Television_drama\"]')\n",
    "print(link)\n",
    "\n",
    "# Find <li> tags which are children of <ul> tags with class lst\n",
    "# list=html_soup.select('ul > li.toclevel-1')\n",
    "# print(list)\n",
    "\n",
    "for externallinks in html_soup.select('section>ul>li'):\n",
    "    print(externallinks.get_text())"
   ]
  }
 ],
 "metadata": {
  "kernelspec": {
   "display_name": "Python 3.10.8 64-bit",
   "language": "python",
   "name": "python3"
  },
  "language_info": {
   "codemirror_mode": {
    "name": "ipython",
    "version": 3
   },
   "file_extension": ".py",
   "mimetype": "text/x-python",
   "name": "python",
   "nbconvert_exporter": "python",
   "pygments_lexer": "ipython3",
   "version": "3.10.8 (tags/v3.10.8:aaaf517, Oct 11 2022, 16:50:30) [MSC v.1933 64 bit (AMD64)]"
  },
  "orig_nbformat": 4,
  "vscode": {
   "interpreter": {
    "hash": "61abb1faae53f79e806d9c12619482227edf26d7ba3168cb9b69b001ff4947ea"
   }
  }
 },
 "nbformat": 4,
 "nbformat_minor": 2
}
