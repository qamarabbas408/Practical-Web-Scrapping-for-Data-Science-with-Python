{
 "cells": [
  {
   "attachments": {},
   "cell_type": "markdown",
   "metadata": {},
   "source": [
    "We’re going to scrape the <a>https://news.ycombinator.com/news</a> front page, using\n",
    "requests and Beautiful Soup"
   ]
  },
  {
   "cell_type": "code",
   "execution_count": null,
   "metadata": {},
   "outputs": [],
   "source": [
    "import requests\n",
    "from bs4 import BeautifulSoup\n",
    "import re\n",
    "import mysql.connector as mysql\n",
    "from mysql.connector import Error #error library for error messages \n",
    "def fetchData(base_url,params):\n",
    "    title=tile_url=title_score=title_comments=''\n",
    "    resp = requests.get(base_url,params=params).text\n",
    "    soup = BeautifulSoup(resp, 'html.parser')\n",
    "    tableData = soup.findAll('tr', class_='athing')\n",
    "    if tableData==[]:\n",
    "        print(\"All Records Fetched\")\n",
    "        f=0\n",
    "        return f\n",
    "    for d in tableData:\n",
    "        title = d.find('span', class_='titleline').find('a').text\n",
    "        title_url = d.find('span', class_='titleline').find('a').attrs['href']\n",
    "        # print(titleUrl)\n",
    "        # print(title)\n",
    "        # select next row\n",
    "        next_row = d.find_next_sibling('tr')\n",
    "        title_score = next_row.find('span', class_='score')\n",
    "        print(title_score)\n",
    "        if title_score == None: title_score='0 points'\n",
    "        else:\n",
    "            title_score=title_score.text\n",
    "        # print(title_score)\n",
    "        # Finding comments\n",
    "        title_comments = next_row.find('a', string=re.compile('\\d+(&nbsp;|\\s)comment(s?)'))\n",
    "        title_comments = title_comments.get_text(strip=True).replace('\\xa0', ' ') if title_comments else '0 comments'\n",
    "        # print(title_comments)\n",
    "        storeData(title,title_url,title_score,title_comments)\n",
    "        \n",
    "def storeData(t,u,s,c):\n",
    "    try:\n",
    "        db.execute('INSERT INTO news (title,Url,Score,Comments) VALUES(\\\"%s\\\",\\\"%s\\\",\\\"%s\\\",\\\"%s\\\")'%(t,u,s,c))\n",
    "        conn.commit()\n",
    "    except Error as e:\n",
    "       print(format(e))\n",
    "#database\n",
    "conn=mysql.connect(host='localhost',database='pws4ds_projects',user='root',password='')\n",
    "# print(conn.is_connected())\n",
    "db=conn.cursor()\n",
    "def create_tables():\n",
    "    db.execute('''CREATE TABLE IF NOT EXISTS news (\n",
    "    id integer PRIMARY KEY AUTO_INCREMENT,\n",
    "    title text,\n",
    "    Url text NULL,\n",
    "    Score varchar(255),\n",
    "    Comments varchar(255))''')\n",
    "\n",
    "# create_tables()\n",
    "base_url = 'https://news.ycombinator.com/news'\n",
    "for i in range(1,100):\n",
    "    params={\n",
    "        'p':i\n",
    "    }\n",
    "    print(params['p'])\n",
    "    data=fetchData(base_url,params)\n",
    "    if data ==0: break\n"
   ]
  }
 ],
 "metadata": {
  "kernelspec": {
   "display_name": "Python 3",
   "language": "python",
   "name": "python3"
  },
  "language_info": {
   "codemirror_mode": {
    "name": "ipython",
    "version": 3
   },
   "file_extension": ".py",
   "mimetype": "text/x-python",
   "name": "python",
   "nbconvert_exporter": "python",
   "pygments_lexer": "ipython3",
   "version": "3.10.8 (tags/v3.10.8:aaaf517, Oct 11 2022, 16:50:30) [MSC v.1933 64 bit (AMD64)]"
  },
  "orig_nbformat": 4,
  "vscode": {
   "interpreter": {
    "hash": "61abb1faae53f79e806d9c12619482227edf26d7ba3168cb9b69b001ff4947ea"
   }
  }
 },
 "nbformat": 4,
 "nbformat_minor": 2
}
