{
 "cells": [
  {
   "cell_type": "code",
   "execution_count": 1,
   "metadata": {},
   "outputs": [],
   "source": [
    "import requests\n",
    "import re\n",
    "from bs4 import BeautifulSoup"
   ]
  },
  {
   "cell_type": "code",
   "execution_count": 2,
   "metadata": {},
   "outputs": [
    {
     "name": "stdout",
     "output_type": "stream",
     "text": [
      "Scraping forum page: 1\n",
      "Scraping forum page: 2\n",
      "Scraping forum page: 3\n",
      "Scraping forum page: 4\n",
      "['/thread/new/27', '/thread/14839/sale-fs-ula-ohm-sold', '/thread/2131/before-asking-which-pack-boot', '/thread/18753/decathlon', '/thread/18766/baselayer-dexterity-gloves', '/thread/18739/vehicle-fire-extinguisher', '/thread/18698/western-mountaineering-vests', '/thread/18784/hope-trail-apps-discussion-group', '/thread/18712/hl-apparel', '/thread/18775/womens-boots', '/thread/18759/clean-osprey-backpack', '/thread/18745/sold-warbonnet-blackbird-hammock-mamajamba', '/thread/18746/sold-moon-designs-lunar-tent', '/thread/18744/sold-golite-jam70-backpack', '/thread/18703/looking-tough-bushwhacking-jacket', '/thread/18662/black-friday-gear-deals', '/thread/18713/electric-backpacking-stove', '/thread/18688/sold-western-mountaineering-ultralie-sleeping', '/thread/18661/gps-satellite-tracker', '/thread/3091/headwear-quilt-sleepers-cold-weather', '/thread/18555/on-cloudventure-waterproof', '/thread/18670/boot-maintenance-laces', '/thread/18697/montbell-plasma-1000-alpine-parka', '/thread/18677/wilderness-hiking-apple-watch-due', '/thread/12278/help-pick-puffer-puffy-jacket', '/thread/18533/mens-fitz-roy-hoody', '/thread/18446/lofi-wood-burning-stove', '/thread/18526/apple-provides-emergency-satellite-signaling', '/thread/18472/footwear', '/thread/18316/salomon-speedcross-trail-running-shoes', '/thread/18465/thoughts-car-camping-tents', '/thread/new/27', '/thread/18607/diy-quilt', '/thread/15074/sleeping-bag-uv-damage', '/thread/17688/plumafill-patagonia-micropuff', '/thread/18557/moss-tents-bill', '/thread/18576/old-clothing-collection', '/thread/18558/smart-water-bottle-gatorade', '/thread/18232/on-cloudmonster', '/thread/18534/new-gear-collection', '/thread/17578/sleeping-pads', '/thread/18537/chouinard-gave-away-3', '/thread/18528/sigh-another-escalation-bear-wars', '/thread/18335/muck-boot-recommendations', '/thread/18495/end-single-use-canisters', '/thread/18488/bear-spray-delaware', '/thread/18439/never-search-good-backpacking-boot', '/thread/18464/tent-rain', '/thread/14108/why-don-ultralight-backpack', '/thread/18449/cooler-ice-strategies', '/thread/18407/new-improved-xlite-xtherm-announced', '/thread/12117/smart-phones', '/thread/18341/switch-deet-picaridin', '/thread/18301/use-chemicals-addition-water-filter', '/thread/18392/tell-water-left-hydration-bladder', '/thread/18415/sleeping-bag-recommendations', '/thread/18397/bullpac-frame-alice-straps-conversion', '/thread/17982/rain-jacket', '/thread/18307/compass-repair', '/thread/18384/swedish-stove-collection', '/thread/17752/backpack-fit', '/thread/18380/garmin-66i', '/thread/new/27', '/thread/18262/trekking-pole-water-filter', '/thread/18367/garmin-gps-device-quit', '/thread/18342/teva-website-nonfunctional-weeks', '/thread/18328/expiration-dates-matter', '/thread/18311/hi-looking-shoe-boot-recommendations', '/thread/15059/tent-stakes-double', '/thread/17735/insoles-recommend', '/thread/18289/cotopaxi-gear', '/thread/18276/hiking-sandals', '/thread/18212/climbing-shoes', '/thread/8167/water-filter-review-source', '/thread/18239/nemo-sleep-alternate-pump-sack', '/thread/18243/feel-center-zip-sleeping-bags', '/thread/18223/gerry-clothing', '/thread/17995/valandre-parka-sizing', '/thread/15322/camp-stove-fuel', '/thread/18236/more-boots', '/thread/18067/yeti-products-suck-me', '/thread/18200/global-expedition-ii-shirts', '/thread/18209/help-boots', '/thread/18207/stove', '/thread/18194/interesting', '/thread/18199/optimized-footwear-choice', '/thread/18137/tick-gaiters', '/thread/18148/another-round-sleeping-pads', '/thread/18126/hats-tall-blue-yellow-kind', '/thread/18163/billy-goat-shorts-royal-robbins', '/thread/18117/scarpa-shoes', '/thread/17962/personal-location-beacon', '/thread/18132/radio-thread', '/thread/new/27', '/thread/18131/first-ascent-size-merino-free', '/thread/18051/himali-mens-jetsetter-ultra-button', '/thread/18019/hiking-shirt-help-me-out', '/thread/17288/prefer-plate-trail-running-shoes', '/thread/17868/external-frame-backpack-hiking', '/thread/18098/more-on-expensive-coolers', '/thread/17975/altra-lone-peak-mid-vent', '/thread/8461/binoculars-backpacking-thoughts', '/thread/18041/bamboo-fabric', '/thread/18055/use-bidet', '/thread/18054/admit-fascinating', '/thread/18001/remember-ferrino-backpacks-tents-apparel', '/thread/17976/zipper-rant', '/thread/18012/base-layer-recommendation-skiing', '/thread/17909/favorite-vests', '/thread/18004/soles-delaminating-boots', '/thread/17939/osprey-new-owner', '/thread/17682/montbell-jacket-sizing', '/thread/17932/poop-trowels', '/thread/17970/decathlon', '/thread/17911/mambajamba-tarp-question', '/thread/17959/bear-canisters-fail', '/thread/16917/answer', '/thread/12573/winter-campers-extremely-subjective-question', '/thread/17942/use-flip-top-mittens', '/thread/17916/patagonia-fleece-jackets', '/thread/17672/put-tent-dryer-heat', '/thread/17912/protecting-pack', '/thread/17920/looking-single-pkgs-meds-ointments', '/thread/6596/drone-camera-hiking']\n"
     ]
    }
   ],
   "source": [
    "def get_forum_threads(url, max_pages):\n",
    "    page = 1\n",
    "    threads = []\n",
    "    while not max_pages or page <= max_pages:\n",
    "        print('Scraping forum page:', page)\n",
    "        r = requests.get(url, params={'page': page})\n",
    "        soup = BeautifulSoup(r.text, 'html.parser')\n",
    "        content = soup.find(id='content')\n",
    "        links = content.find_all('a', attrs={'href': re.compile('^\\/thread\\/')})\n",
    "        threads_on_page = [a.get('href') for a in links if a.get('href') and not 'page=' in a.get('href')]\n",
    "        threads += threads_on_page\n",
    "        page += 1\n",
    "        next_page = soup.find('li', class_='next')\n",
    "        if 'state-disabled' in next_page.get('class'):\n",
    "            break\n",
    "    return threads\n",
    "url = 'http://bpbasecamp.freeforums.net/board/27/gear-closet'\n",
    "threads = get_forum_threads(url, max_pages=4)\n",
    "print(threads)    "
   ]
  },
  {
   "cell_type": "code",
   "execution_count": 9,
   "metadata": {},
   "outputs": [
    {
     "name": "stdout",
     "output_type": "stream",
     "text": [
      "Scraping thread url/page: http://bpbasecamp.freeforums.net/thread/2131/before-asking-which-pack-boot 1\n",
      "almostthere\n",
      "-----------\n",
      "trinity\n",
      "-----------\n",
      "paula53\n",
      "-----------\n",
      "toejam\n",
      "-----------\n",
      "stickman\n",
      "-----------\n",
      "almostthere\n",
      "-----------\n",
      "kayman\n",
      "-----------\n",
      "almostthere\n",
      "-----------\n",
      "lanceman\n",
      "-----------\n",
      "pollock\n",
      "-----------\n",
      "mitsmit\n",
      "-----------\n",
      "Christian\n",
      "-----------\n",
      "softskull\n",
      "-----------\n",
      "Scraping thread url/page: http://bpbasecamp.freeforums.net/thread/2131/before-asking-which-pack-boot 2\n",
      "argus\n",
      "-----------\n",
      "lyssa7\n",
      "-----------\n",
      "kevin\n",
      "-----------\n",
      "dogrescuer\n",
      "-----------\n",
      "RedDoug\n",
      "-----------\n",
      "Richard\n",
      "-----------\n",
      "rebeccad\n",
      "-----------\n",
      "assen\n",
      "-----------\n",
      "james2020\n",
      "-----------\n",
      "zeke\n",
      "-----------\n",
      "bushmaster\n",
      "-----------\n",
      "[('toejam', ['almostthere']), ('almostthere', []), ('almostthere', ['kayman']), ('RedDoug', ['kayman'])]\n"
     ]
    }
   ],
   "source": [
    "from urllib.parse import urljoin\n",
    "\n",
    "def get_thread_posts(url, max_pages=None):\n",
    "    page = 1\n",
    "    posts = []\n",
    "    while not max_pages or page <= max_pages:\n",
    "        print('Scraping thread url/page:', url, page)\n",
    "        r = requests.get(url, params={'page': page})\n",
    "        soup = BeautifulSoup(r.text, 'html.parser')\n",
    "        content = soup.find(class_='content')\n",
    "        for post in content.find_all('tr', class_='item'):\n",
    "            user = post.find('a', class_='user-link')\n",
    "            if not user:\n",
    "            # User might be deleted, skip...\n",
    "                continue\n",
    "            user = user.get_text(strip=True)\n",
    "            print(user)\n",
    "            print('-----------')\n",
    "            quotes = []\n",
    "            for quote in post.find_all(class_='quote_header'):\n",
    "                quoted_user = quote.find('a', class_='user-link')\n",
    "                if quoted_user:\n",
    "                    quotes.append(quoted_user.get_text(strip=True))\n",
    "                posts.append((user, quotes))\n",
    "        page += 1\n",
    "        next_page = soup.find('li', class_='next')\n",
    "        if 'state-disabled' in next_page.get('class'):break    \n",
    "    return posts\n",
    "\n",
    "\n",
    "url = 'http://bpbasecamp.freeforums.net/board/27/gear-closet'\n",
    "thread = '/thread/2131/before-asking-which-pack-boot'\n",
    "thread_url = urljoin(url, thread)\n",
    "# print(thread_url)\n",
    "posts = get_thread_posts(thread_url)\n",
    "print(posts)"
   ]
  },
  {
   "cell_type": "code",
   "execution_count": 1,
   "metadata": {},
   "outputs": [
    {
     "ename": "SyntaxError",
     "evalue": "'break' outside loop (3304161322.py, line 25)",
     "output_type": "error",
     "traceback": [
      "\u001b[1;36m  Cell \u001b[1;32mIn [1], line 25\u001b[1;36m\u001b[0m\n\u001b[1;33m    if 'state-disabled' in next_page.get('class'):break\u001b[0m\n\u001b[1;37m                                                  ^\u001b[0m\n\u001b[1;31mSyntaxError\u001b[0m\u001b[1;31m:\u001b[0m 'break' outside loop\n"
     ]
    }
   ],
   "source": [
    "from urllib.parse import urljoin\n",
    "import pickle\n",
    "def get_thread_posts(url, max_pages=None):\n",
    "    page = 1\n",
    "    posts = []\n",
    "    while not max_pages or page <= max_pages:\n",
    "        print('Scraping thread url/page:', url, page)\n",
    "        r = requests.get(url, params={'page': page})\n",
    "        soup = BeautifulSoup(r.text, 'html.parser')\n",
    "        content = soup.find(class_='content')\n",
    "        for post in content.find_all('tr', class_='item'):\n",
    "            user = post.find('a', class_='user-link')\n",
    "            if not user:\n",
    "            # User might be deleted, skip...\n",
    "                continue\n",
    "            user = user.get_text(strip=True)\n",
    "            quotes = []\n",
    "            for quote in post.find_all(class_='quote_header'):\n",
    "                quoted_user = quote.find('a', class_='user-link')\n",
    "                if quoted_user:\n",
    "                    quotes.append(quoted_user.get_text(strip=True))\n",
    "            posts.append((user, quotes))\n",
    "            page += 1\n",
    "            next_page = soup.find('li', class_='next')\n",
    "            if 'state-disabled' in next_page.get('class'):break\n",
    "        return posts\n",
    "url = 'http://bpbasecamp.freeforums.net/board/27/gear-closet'\n",
    "threads = get_forum_threads(url, max_pages=5)\n",
    "all_posts = []\n",
    "for thread in threads:\n",
    "    thread_url = urljoin(url, thread)\n",
    "    posts = get_thread_posts(thread_url)\n",
    "    all_posts.append(posts)\n",
    "with open('forum_posts.pkl', \"wb\") as output_file:\n",
    "    pickle.dump(all_posts, output_file)"
   ]
  }
 ],
 "metadata": {
  "kernelspec": {
   "display_name": "Python 3",
   "language": "python",
   "name": "python3"
  },
  "language_info": {
   "codemirror_mode": {
    "name": "ipython",
    "version": 3
   },
   "file_extension": ".py",
   "mimetype": "text/x-python",
   "name": "python",
   "nbconvert_exporter": "python",
   "pygments_lexer": "ipython3",
   "version": "3.10.8"
  },
  "orig_nbformat": 4,
  "vscode": {
   "interpreter": {
    "hash": "61abb1faae53f79e806d9c12619482227edf26d7ba3168cb9b69b001ff4947ea"
   }
  }
 },
 "nbformat": 4,
 "nbformat_minor": 2
}
