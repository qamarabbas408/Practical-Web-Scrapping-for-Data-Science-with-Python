{
 "cells": [
  {
   "attachments": {},
   "cell_type": "markdown",
   "metadata": {},
   "source": [
    "We’ll use Game of Thrones as\n",
    "an example, the episode list for which can be found at <a>http://www.imdb.com/title/\n",
    "tt0944947/episodes</a>."
   ]
  },
  {
   "cell_type": "code",
   "execution_count": 1,
   "metadata": {},
   "outputs": [
    {
     "name": "stdout",
     "output_type": "stream",
     "text": [
      "Episode: 1.1 -- rating: 8.9\n",
      "Episode: 1.2 -- rating: 8.6\n",
      "Episode: 1.3 -- rating: 8.5\n",
      "Episode: 1.4 -- rating: 8.6\n",
      "Episode: 1.5 -- rating: 9.0\n",
      "Episode: 1.6 -- rating: 9.1\n",
      "Episode: 1.7 -- rating: 9.1\n",
      "Episode: 1.8 -- rating: 8.9\n",
      "Episode: 1.9 -- rating: 9.6\n",
      "Episode: 1.10 -- rating: 9.4\n",
      "Episode: 2.1 -- rating: 8.6\n",
      "Episode: 2.2 -- rating: 8.4\n",
      "Episode: 2.3 -- rating: 8.7\n",
      "Episode: 2.4 -- rating: 8.6\n",
      "Episode: 2.5 -- rating: 8.6\n",
      "Episode: 2.6 -- rating: 8.9\n",
      "Episode: 2.7 -- rating: 8.8\n",
      "Episode: 2.8 -- rating: 8.6\n",
      "Episode: 2.9 -- rating: 9.6\n",
      "Episode: 2.10 -- rating: 9.3\n",
      "Episode: 3.1 -- rating: 8.6\n",
      "Episode: 3.2 -- rating: 8.5\n",
      "Episode: 3.3 -- rating: 8.7\n",
      "Episode: 3.4 -- rating: 9.5\n",
      "Episode: 3.5 -- rating: 8.9\n",
      "Episode: 3.6 -- rating: 8.7\n",
      "Episode: 3.7 -- rating: 8.6\n",
      "Episode: 3.8 -- rating: 8.9\n",
      "Episode: 3.9 -- rating: 9.9\n",
      "Episode: 3.10 -- rating: 9.0\n",
      "Episode: 4.1 -- rating: 9.0\n",
      "Episode: 4.2 -- rating: 9.7\n",
      "Episode: 4.3 -- rating: 8.7\n",
      "Episode: 4.4 -- rating: 8.7\n",
      "Episode: 4.5 -- rating: 8.6\n",
      "Episode: 4.6 -- rating: 9.7\n",
      "Episode: 4.7 -- rating: 9.0\n",
      "Episode: 4.8 -- rating: 9.7\n",
      "Episode: 4.9 -- rating: 9.6\n",
      "Episode: 4.10 -- rating: 9.6\n",
      "Episode: 5.1 -- rating: 8.3\n",
      "Episode: 5.2 -- rating: 8.3\n",
      "Episode: 5.3 -- rating: 8.4\n",
      "Episode: 5.4 -- rating: 8.5\n",
      "Episode: 5.5 -- rating: 8.5\n",
      "Episode: 5.6 -- rating: 7.9\n",
      "Episode: 5.7 -- rating: 8.8\n",
      "Episode: 5.8 -- rating: 9.8\n",
      "Episode: 5.9 -- rating: 9.4\n",
      "Episode: 5.10 -- rating: 9.1\n",
      "Episode: 6.1 -- rating: 8.4\n",
      "Episode: 6.2 -- rating: 9.3\n",
      "Episode: 6.3 -- rating: 8.6\n",
      "Episode: 6.4 -- rating: 9.0\n",
      "Episode: 6.5 -- rating: 9.7\n",
      "Episode: 6.6 -- rating: 8.3\n",
      "Episode: 6.7 -- rating: 8.5\n",
      "Episode: 6.8 -- rating: 8.3\n",
      "Episode: 6.9 -- rating: 9.9\n",
      "Episode: 6.10 -- rating: 9.9\n",
      "Episode: 7.1 -- rating: 8.5\n",
      "Episode: 7.2 -- rating: 8.8\n",
      "Episode: 7.3 -- rating: 9.1\n",
      "Episode: 7.4 -- rating: 9.7\n",
      "Episode: 7.5 -- rating: 8.7\n",
      "Episode: 7.6 -- rating: 9.0\n",
      "Episode: 7.7 -- rating: 9.4\n"
     ]
    }
   ],
   "source": [
    "import requests\n",
    "from bs4 import BeautifulSoup\n",
    "url='http://www.imdb.com/title/tt0944947/episodes'\n",
    "episodes = []\n",
    "ratings = []\n",
    "# Go over seasons 1 to 7\n",
    "for season in range(1, 8):\n",
    "    r = requests.get(url, params={'season': season})\n",
    "    soup = BeautifulSoup(r.text, 'html.parser')\n",
    "    listing = soup.find('div', class_='eplist')\n",
    "    for epnr, div in enumerate(listing.find_all('div', recursive=False)): #recusive set to False means only look for direct children\n",
    "        episode = \"{}.{}\".format(season, epnr + 1)\n",
    "        rating_el = div.find(class_='ipl-rating-star__rating')\n",
    "        rating = float(rating_el.get_text(strip=True))\n",
    "        print('Episode:', episode, '-- rating:', rating)\n",
    "        episodes.append(episode)\n",
    "        ratings.append(rating)  "
   ]
  },
  {
   "cell_type": "code",
   "execution_count": 5,
   "metadata": {},
   "outputs": [
    {
     "name": "stdout",
     "output_type": "stream",
     "text": [
      "['1.1', '1.2', '1.3', '1.4', '1.5', '1.6', '1.7', '1.8', '1.9', '1.10', '2.1', '2.2', '2.3', '2.4', '2.5', '2.6', '2.7', '2.8', '2.9', '2.10', '3.1', '3.2', '3.3', '3.4', '3.5', '3.6', '3.7', '3.8', '3.9', '3.10', '4.1', '4.2', '4.3', '4.4', '4.5', '4.6', '4.7', '4.8', '4.9', '4.10', '5.1', '5.2', '5.3', '5.4', '5.5', '5.6', '5.7', '5.8', '5.9', '5.10', '6.1', '6.2', '6.3', '6.4', '6.5', '6.6', '6.7', '6.8', '6.9', '6.10', '7.1', '7.2', '7.3', '7.4', '7.5', '7.6', '7.7']\n",
      "1\n"
     ]
    }
   ],
   "source": [
    "print(episodes)\n",
    "# str='1.1'\n",
    "# print(str.split('.')[1])"
   ]
  },
  {
   "cell_type": "code",
   "execution_count": 6,
   "metadata": {},
   "outputs": [
    {
     "data": {
      "image/png": "[encoded data removed]",
      "text/plain": [
       "<Figure size 640x480 with 1 Axes>"
      ]
     },
     "metadata": {},
     "output_type": "display_data"
    }
   ],
   "source": [
    "import matplotlib.pyplot as plt\n",
    "episodes = ['S' + e.split('.')[0] if int(e.split('.')[1]) == 1 else '' for e in episodes]\n",
    "plt.figure()\n",
    "positions = [a*2 for a in range(len(ratings))]\n",
    "plt.bar(positions, ratings, align='center')\n",
    "plt.xticks(positions, episodes)\n",
    "plt.show()"
   ]
  }
 ],
 "metadata": {
  "kernelspec": {
   "display_name": "Python 3",
   "language": "python",
   "name": "python3"
  },
  "language_info": {
   "codemirror_mode": {
    "name": "ipython",
    "version": 3
   },
   "file_extension": ".py",
   "mimetype": "text/x-python",
   "name": "python",
   "nbconvert_exporter": "python",
   "pygments_lexer": "ipython3",
   "version": "3.10.8"
  },
  "orig_nbformat": 4,
  "vscode": {
   "interpreter": {
    "hash": "61abb1faae53f79e806d9c12619482227edf26d7ba3168cb9b69b001ff4947ea"
   }
  }
 },
 "nbformat": 4,
 "nbformat_minor": 2
}
