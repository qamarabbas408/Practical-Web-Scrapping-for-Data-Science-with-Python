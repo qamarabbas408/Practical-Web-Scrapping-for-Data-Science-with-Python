{
 "cells": [
  {
   "attachments": {},
   "cell_type": "markdown",
   "metadata": {},
   "source": [
    "<h2>Scarping Git Stars</h2>\n",
    "We’re going to scrape <a>https://github.com</a>, using requests and Beautiful Soup. Our goal\n",
    "is to get, for a given GitHub username, like, for example, <a>https://github.com/google</a>,\n",
    "a list of repositories with their GitHub-assigned programming language as well as the\n",
    "number of stars a repository has."
   ]
  },
  {
   "cell_type": "code",
   "execution_count": 21,
   "metadata": {},
   "outputs": [
    {
     "name": "stdout",
     "output_type": "stream",
     "text": [
      "https://github.com/orgs/google/repositories?page=1\n",
      "\n",
      "flutter-desktop-embedding C++ 7077\n",
      "it-cert-automation-practice Python 616\n",
      "mono_repo.dart Dart 135\n",
      "fusion-tables-archive-visualizer TypeScript 31\n",
      "webkit_inspection_protocol.dart Dart 24\n",
      "osv-scanner Go 3489\n",
      "vector_math.dart Dart 261\n",
      "elements-sk HTML 27\n",
      "nomulus Java 1578\n",
      "built_collection.dart Dart 250\n",
      "seqio Python 293\n",
      "mug Java 303\n",
      "source_helper.dart Dart 9\n",
      "intermock TypeScript 972\n",
      "flatbuffers C++ 19613\n",
      "json_serializable.dart Dart 1381\n",
      "clif Python 917\n",
      "mtail Go 3407\n",
      "sxg-rs Rust 64\n",
      "tuple.dart Dart 171\n",
      "oss-fuzz-vulns Python 86\n",
      "android-fhir Kotlin 293\n",
      "built_value.dart Dart 819\n",
      "pack-n-play TypeScript 51\n",
      "site-kit-wp JavaScript 1147\n",
      "gink TypeScript 12\n",
      "data-transfer-project Java 3404\n",
      "error-prone Java 6271\n",
      "jax Python 21333\n",
      "AEUX JavaScript 444\n"
     ]
    }
   ],
   "source": [
    "import requests\n",
    "from bs4 import BeautifulSoup\n",
    "import re\n",
    "session = requests.Session()\n",
    "url = 'https://github.com/orgs/{}'\n",
    "username = 'google'\n",
    "r = session.get(url.format(username)+'/repositories', params={'page': 1})\n",
    "print(r.url)\n",
    "print()\n",
    "html_soup = BeautifulSoup(r.text, 'html.parser')\n",
    "repos = html_soup.find(class_='repo-list').find_all('li')\n",
    "for repo in repos:\n",
    "    name = repo.find('h3').find('a').get_text(strip=True)\n",
    "    language = repo.find(attrs={'itemprop': 'programmingLanguage'})\n",
    "    language = language.get_text(strip=True) if language else 'unknown'\n",
    "    stars = repo.find('a', attrs={'href': re.compile('\\/stargazers')})\n",
    "    stars = int(stars.get_text(strip=True).replace(',', '')) if stars else 0\n",
    "    print(name, language, stars)"
   ]
  },
  {
   "cell_type": "code",
   "execution_count": 2,
   "metadata": {},
   "outputs": [
    {
     "name": "stdout",
     "output_type": "stream",
     "text": [
      "minecraft-python Java 197\n",
      "or-tools C++ 0\n",
      "palettestealer-suspender Visual Basic .NET 5\n",
      "pdbmbook-docker Dockerfile 4\n",
      "processmining-loggenerator Java 1\n",
      "markdown-slide-editor CSS 2\n",
      "blog JavaScript 1\n",
      "macuyiko.github.io HTML 0\n",
      "gmail-cleaner Python 9\n",
      "cobefra Java 1\n",
      "cbc-msys2 Shell 1\n",
      "webscrapingfordatascience Python 64\n",
      "fodina-experiments Java 0\n",
      "representational-process Jupyter Notebook 0\n",
      "processmining-fodina-depgraph Java 0\n",
      "mlc-churn unknown 0\n",
      "Description2Process Jupyter Notebook 0\n",
      "processmining-decomposedconformance Java 0\n",
      "processmining-secpi Java 0\n",
      "course-riskconcile-webscraping HTML 1\n",
      "jijkiest-scraper Jupyter Notebook 0\n",
      "shadowsocks-installer Shell 0\n",
      "course-riskconcile-lfs R 0\n",
      "aoe2predict R 33\n",
      "adbmirror Python 9\n",
      "sklearn-gbmi Jupyter Notebook 0\n",
      "simple-flask-feedback-table HTML 0\n",
      "Mirai-Source-Code C 0\n",
      "pach-experiments C 0\n",
      "qlearning4k Python 0\n"
     ]
    }
   ],
   "source": [
    "import requests\n",
    "from bs4 import BeautifulSoup\n",
    "import re\n",
    "session = requests.Session()\n",
    "url = 'https://github.com/{}'\n",
    "username = 'Macuyiko'\n",
    "r = session.get(url.format(username), params={'page': 1, 'tab':\n",
    "'repositories'})\n",
    "html_soup = BeautifulSoup(r.text, 'html.parser')\n",
    "is_normal_user = False\n",
    "repos_element = html_soup.find(class_='repo-list')\n",
    "if not repos_element:\n",
    "    is_normal_user = True\n",
    "    repos_element = html_soup.find(id='user-repositories-list')\n",
    "repos = repos_element.find_all('li')\n",
    "for repo in repos:\n",
    "    name = repo.find('h3').find('a').get_text(strip=True)\n",
    "    language = repo.find(attrs={'itemprop': 'programmingLanguage'})\n",
    "    language = language.get_text(strip=True) if language else 'unknown'\n",
    "    stars = repo.find('a', attrs={'href': re.compile('\\/stargazers')})\n",
    "    stars = int(stars.get_text(strip=True).replace(',', '')) if stars else 0\n",
    "    print(name, language, stars)"
   ]
  }
 ],
 "metadata": {
  "kernelspec": {
   "display_name": "Python 3",
   "language": "python",
   "name": "python3"
  },
  "language_info": {
   "codemirror_mode": {
    "name": "ipython",
    "version": 3
   },
   "file_extension": ".py",
   "mimetype": "text/x-python",
   "name": "python",
   "nbconvert_exporter": "python",
   "pygments_lexer": "ipython3",
   "version": "3.10.8"
  },
  "orig_nbformat": 4,
  "vscode": {
   "interpreter": {
    "hash": "61abb1faae53f79e806d9c12619482227edf26d7ba3168cb9b69b001ff4947ea"
   }
  }
 },
 "nbformat": 4,
 "nbformat_minor": 2
}
