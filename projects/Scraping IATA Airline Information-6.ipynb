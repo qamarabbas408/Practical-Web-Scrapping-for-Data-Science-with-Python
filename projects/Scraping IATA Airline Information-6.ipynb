{
 "cells": [
  {
   "cell_type": "code",
   "execution_count": 1,
   "metadata": {},
   "outputs": [],
   "source": [
    "import requests\n",
    "from bs4 import BeautifulSoup"
   ]
  },
  {
   "cell_type": "code",
   "execution_count": 19,
   "metadata": {},
   "outputs": [
    {
     "name": "stdout",
     "output_type": "stream",
     "text": [
      "<input class=\"form-control registry-input\" id=\"input-e99457f4-dcaa-408c-ab75-75adb52b78a8\" name=\"airline.search\" placeholder='Airline Name or 2-letter code - For more precise results, use brackets, ex \"air france\"' type=\"text\"/>\n"
     ]
    }
   ],
   "source": [
    "session=requests.Session()\n",
    "session.headers.update(\n",
    "    {\n",
    "        'User-Agent' : 'Mozilla/5.0 (Windows NT 10.0; Win64; x64)\\\n",
    "AppleWebKit/537.36 ' + ' (KHTML, like Gecko) Chrome/62.0.3202.62\\\n",
    "Safari/537.36'\n",
    "    }\n",
    ")\n",
    "\n",
    "url='https://www.iata.org/en/publications/directories/code-search/'\n",
    "r=session.get(url)\n",
    "html_soup = BeautifulSoup(r.text, 'html.parser')\n",
    "form = html_soup.find('form',id='searchForm').find('input')\n",
    "print(form)"
   ]
  },
  {
   "cell_type": "code",
   "execution_count": 183,
   "metadata": {},
   "outputs": [],
   "source": [
    "url='https://www.iata.org/en/publications/directories/code-search/'\n",
    "country='Pakistan'\n",
    "params={\n",
    "    'airline.search':country\n",
    "}\n",
    "r=session.post(url,params=params).text"
   ]
  },
  {
   "cell_type": "code",
   "execution_count": 186,
   "metadata": {},
   "outputs": [
    {
     "name": "stdout",
     "output_type": "stream",
     "text": [
      "[['Pakistan International Airlines Corporation Limited', 'Pakistan', 'PK']]\n"
     ]
    }
   ],
   "source": [
    "\n",
    "datalist=list()\n",
    "html_soup = BeautifulSoup(r, 'html.parser')\n",
    "try:\n",
    "    data=html_soup.find('table',class_='datatable').find('tbody')\n",
    "    tabledata=data.findAll('tr')\n",
    "    for t in tabledata:\n",
    "        s=t.text.strip()\n",
    "        s=s.split('\\n')\n",
    "        datalist.append(s)\n",
    "    print(datalist)\n",
    "except:\n",
    "    datalist.append('No Airline Code Found')\n",
    "    print('No Airline Code Found')\n"
   ]
  }
 ],
 "metadata": {
  "kernelspec": {
   "display_name": "Python 3",
   "language": "python",
   "name": "python3"
  },
  "language_info": {
   "codemirror_mode": {
    "name": "ipython",
    "version": 3
   },
   "file_extension": ".py",
   "mimetype": "text/x-python",
   "name": "python",
   "nbconvert_exporter": "python",
   "pygments_lexer": "ipython3",
   "version": "3.10.8 (tags/v3.10.8:aaaf517, Oct 11 2022, 16:50:30) [MSC v.1933 64 bit (AMD64)]"
  },
  "orig_nbformat": 4,
  "vscode": {
   "interpreter": {
    "hash": "61abb1faae53f79e806d9c12619482227edf26d7ba3168cb9b69b001ff4947ea"
   }
  }
 },
 "nbformat": 4,
 "nbformat_minor": 2
}
