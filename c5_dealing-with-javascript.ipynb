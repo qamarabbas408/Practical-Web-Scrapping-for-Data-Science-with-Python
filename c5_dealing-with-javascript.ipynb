{
 "cells": [
  {
   "attachments": {},
   "cell_type": "markdown",
   "metadata": {},
   "source": [
    "<h2>Scraping Javascript</h2>\n",
    "Navigate to the URL at <a>http://www.webscrapingfordatascience.com/</a>\n",
    "simplejavascript/. This simple web page shows three random quotes, but it uses\n",
    "JavaScript to do so. Inspect the source code of the page.\n",
    "This JavaScript fragment does the following:\n",
    "<ul>\n",
    "<li>To code is wrapped in a “$()” function. This is not part of standard\n",
    "JavaScript, but instead a mechanism provided by jQuery, a popular\n",
    "JavaScript library that is loaded using another “script” tag. The\n",
    "code defined in the function will be executed once the browser is\n",
    "finished with loading the page.</li>\n",
    "<li> The code inside the function starts by setting a “jsenabled” cookie.\n",
    "Indeed, JavaScript is able to set and retrieve cookies as well.</li>\n",
    "<li>Next, a “getJSON” function is used to perform another HTTP request to\n",
    "fetch the quotes, which are added by inserting a ul tag in thebody></li>\n",
    "</ul>"
   ]
  },
  {
   "cell_type": "code",
   "execution_count": 7,
   "metadata": {},
   "outputs": [
    {
     "name": "stdout",
     "output_type": "stream",
     "text": [
      "None\n",
      "<script>\n",
      "\t$(function() {\n",
      "\tdocument.cookie = \"jsenabled=1\";\n",
      "\t$.getJSON(\"quotes.php\", function(data) {\n",
      "\t\tvar items = [];\n",
      "\t\t$.each(data, function(key, val) {\n",
      "\t\t\titems.push(\"<li id='\" + key + \"'>\" + val + \"</li>\");\n",
      "\t\t});\n",
      "\t\t$(\"<ul/>\", {\n",
      "\t\t\thtml: items.join(\"\")\n",
      "\t\t\t}).appendTo(\"body\");\n",
      "\t\t});\n",
      "\t});\n",
      "\t</script>\n"
     ]
    }
   ],
   "source": [
    "import requests\n",
    "from bs4 import BeautifulSoup\n",
    "url = 'http://www.webscrapingfordatascience.com/simplejavascript/'\n",
    "r = requests.get(url)\n",
    "# print(r.text) \n",
    "html_soup = BeautifulSoup(r.text, 'html.parser')\n",
    "# No tag will be found here\n",
    "ul_tag = html_soup.find('ul')\n",
    "print(ul_tag)\n",
    "# Show the JavaScript code\n",
    "script_tag = html_soup.find('script', attrs={'src': None})\n",
    "print(script_tag)\n",
    "\n",
    "comments=''' #!COMMENTS\n",
    "the contents of the page are just returned as is, but neither\n",
    "requests nor Beautiful Soup come with a JavaScript engine included, meaning that no\n",
    "JavaScript will be executed, and no “<ul>” tag will be found on the page. We can take a\n",
    "look at the “<script>” tag, but to Beautiful Soup, this will look like any other HTML tag\n",
    "with a bunch of text inside. We have no way to parse and query the actual JavaScript code.'''"
   ]
  },
  {
   "attachments": {},
   "cell_type": "markdown",
   "metadata": {},
   "source": [
    "In simple situations such as this one, this is not necessarily a problem. We know\n",
    "that the browser is making requests to a page at “quotes.php”, and that we need to set a\n",
    "cookie. We can still scrape the data directly:"
   ]
  },
  {
   "cell_type": "code",
   "execution_count": 13,
   "metadata": {},
   "outputs": [
    {
     "name": "stdout",
     "output_type": "stream",
     "text": [
      "[\"Whatever the mind of man can conceive and believe, it can achieve. \\u2013Napoleon Hill\",\"I am not a product of my circumstances. I am a product of my decisions. \\u2013Stephen Covey\",\"Your time is limited, so don\\u2019t waste it living someone else\\u2019s life. \\u2013Steve Jobs\"]\n"
     ]
    }
   ],
   "source": [
    "url = 'http://www.webscrapingfordatascience.com/simplejavascript/quotes.php'\n",
    "r = requests.get(url,cookies={'jsenabled':'1'},headers={'User-Agent': 'Mozilla/5.0 (Linux; Android 6.0; Nexus 5 Build/MRA58N) AppleWebKit/537.36 (KHTML, like Gecko) Chrome/108.0.0.0 Mobile Safari/537.36'})\n",
    "print(r.text)\n",
    "# if cookie is not set you won't be abled to get data "
   ]
  },
  {
   "attachments": {},
   "cell_type": "markdown",
   "metadata": {},
   "source": [
    "Head over to <a>http://www.\n",
    "webscrapingfordatascience.com/complexjavascript/</a>. You’ll note that this page loads\n",
    "additional quotes by scrolling to the bottom of the list. Inspecting the script tags\n",
    "now shows an obfuscated mess. For your web browser,\n",
    "interpreting and running this code might be simple, but to us humans, it is not. we can still try to inspect the network requests to figure out what is happening here, to\n",
    "some extent:\n",
    "<ul>\n",
    "<li>Requests are made once again to a “quotes.php” page with a “p” URL\n",
    "parameter, used for pagination</li>\n",
    "<li>Two cookies are used here: “nonce” and “PHPSESSID.” The latter\n",
    "we’ve encountered before, and is simply included in the “Set-Cookie”\n",
    "response header for the main page. The “nonce” cookie, however, is\n",
    "not, which indicates that it might be set through JavaScript</li>\n",
    "</ul>\n"
   ]
  },
  {
   "cell_type": "code",
   "execution_count": 16,
   "metadata": {},
   "outputs": [
    {
     "name": "stdout",
     "output_type": "stream",
     "text": [
      "No quotes for you!\n",
      "http://www.webscrapingfordatascience.com/complexjavascript/quotes.php?p=0\n",
      "{'User-Agent': 'python-requests/2.28.1', 'Accept-Encoding': 'gzip, deflate', 'Accept': '*/*', 'Connection': 'keep-alive', 'Cookie': 'nonce=6205; PHPSESSID=3e85jr8rukci1om99au4kg8mqr'}\n"
     ]
    }
   ],
   "source": [
    "import requests\n",
    "url = 'http://www.webscrapingfordatascience.com/complexjavascript/'\n",
    "my_session = requests.Session()\n",
    "# Get the main page first to obtain the PHPSESSID cookie\n",
    "r = my_session.get(url)\n",
    "# Manually set the nonce cookie\n",
    "my_session.cookies.update({\n",
    "'nonce': '6205' #from browser developer tools \n",
    "})\n",
    "r = my_session.get(url + 'quotes.php', params={'p': '0'})\n",
    "print(r.text)\n",
    "print(r.url)\n",
    "print(r.request.headers)\n",
    "# Shows: No quotes for you!"
   ]
  },
  {
   "attachments": {},
   "cell_type": "markdown",
   "metadata": {},
   "source": [
    " We’re getting a fresh session\n",
    "identifier by visiting the main page as if we were coming from a new browsing session\n",
    "to provide the “PHPSESSID” cookie. However, we’re reusing the “nonce” cookie value\n",
    "that our browser was using. The web page might see that this “nonce” value does not\n",
    "match with the “PHPSESSID” information. As such, we have no choice but to also reuse\n",
    "the “PHPSESSID” value"
   ]
  },
  {
   "cell_type": "code",
   "execution_count": 17,
   "metadata": {},
   "outputs": [
    {
     "name": "stdout",
     "output_type": "stream",
     "text": [
      "<div class=\"quote decode\">TGlmZSBpcyBhYm91dCBtYWtpbmcgYW4gaW1wYWN0LCBub3QgbWFraW5nIGFuIGluY29tZS4gLUtldmluIEtydXNlDQo=</div><div class=\"quote decode\">CVdoYXRldmVyIHRoZSBtaW5kIG9mIG1hbiBjYW4gY29uY2VpdmUgYW5kIGJlbGlldmUsIGl0IGNhbiBhY2hpZXZlLiDigJNOYXBvbGVvbiBIaWxsDQo=</div><div class=\"quote decode\">CVN0cml2ZSBub3QgdG8gYmUgYSBzdWNjZXNzLCBidXQgcmF0aGVyIHRvIGJlIG9mIHZhbHVlLiDigJNBbGJlcnQgRWluc3RlaW4NCg==</div><br><br><br><br><a class=\"jscroll-next\" href=\"quotes.php?p=3\">Load more quotes</a>\n"
     ]
    }
   ],
   "source": [
    "import requests\n",
    "url = 'http://www.webscrapingfordatascience.com/complexjavascript/'\n",
    "my_cookies = {\n",
    "'nonce': '6205',\n",
    "'PHPSESSID': 'm1ajmim0qtqj40foh7t6h61emr'\n",
    "}\n",
    "r = requests.get(url + 'quotes.php', params={'p': '0'}, cookies=my_cookies)\n",
    "\n",
    "# This looks like HTML containing our quotes, but note that every quote seems to be\n",
    "# encoded in some way. \n",
    "print(r.text)"
   ]
  },
  {
   "attachments": {},
   "cell_type": "markdown",
   "metadata": {},
   "source": [
    " Above of parsing JS approach comes with a number of issues, which — sadly — we’re\n",
    "unable to solve using what we’ve seen so far. The solution to this problem is easy to\n",
    "describe: we’re seeing the quotes appear in our browser window, which is executing\n",
    "JavaScript, so can’t we get them out from there? Indeed, for sites making heavy use of\n",
    "JavaScript, we’ll have no choice but to emulate a full browser stack, and to move away\n",
    "from requests and Beautiful Soup"
   ]
  },
  {
   "attachments": {},
   "cell_type": "markdown",
   "metadata": {},
   "source": [
    "<h2>Scrapping with Selenium </h2> Selenium is a powerful web scraping tool that was originally developed for the purpose\n",
    "of automated website testing. Selenium works by automating browsers to load a website,\n",
    "retrieve its contents, and perform actions like a user would when using the browser. As\n",
    "such, it’s also a powerful tool for web scraping. Selenium can be controlled from various\n",
    "programming languages, such as Java, C#, PHP, and of course, Python.\n",
    "Selenium itself does not come with its own web browser.\n",
    "Instead, it requires a piece of integration software to interact with a third party, called\n",
    "a <b>WebDriver</b>. For this tutorial we use ChromeWebDriver can be downlaoded <a> https://sites.google.com/a/\n",
    "chromium.org/chromedriver/downloads</a> as webDriver. And To install Selenium <i>pip install -U Selenium </i> "
   ]
  },
  {
   "cell_type": "code",
   "execution_count": 2,
   "metadata": {},
   "outputs": [],
   "source": [
    "#!BOILER PLATE\n",
    "from selenium import webdriver\n",
    "url = 'http://www.webscrapingfordatascience.com/complexjavascript/'\n",
    "driver = webdriver.Chrome()\n",
    "driver.get(url)\n",
    "input('Press ENTER to close the automated browser')\n",
    "driver.quit()"
   ]
  },
  {
   "attachments": {},
   "cell_type": "markdown",
   "metadata": {},
   "source": [
    "If you prefer to keep the WebDriver executable somewhere else, it is also possible\n",
    "to pass its location as you construct the Selenium webdriver object in Python like so\n",
    "(however, we’ll assume that you keep the executable in the same directory for the\n",
    "examples that follow to keep the code a bit shorter):<br>\n",
    "<pre>\n",
    "driver_exe = 'C:/Users/Seppe/Desktop/chromedriver.exe'\n",
    "# If you copy-paste the path with back-slashes, make sure to escape them\n",
    "# E.g.: driver_exe = 'C:\\\\Users\\\\Seppe\\\\Desktop\\\\chromedriver.exe'\n",
    "driver = webdriver.Chrome(driver_exe)\n",
    "</pre>"
   ]
  },
  {
   "attachments": {},
   "cell_type": "markdown",
   "metadata": {},
   "source": [
    "Let’s modify last program to showcase Selenium methods, for instance, to get out the\n",
    "quotes’ contents in <a>'http://www.webscrapingfordatascience.com/complexjavascript/'</a> which we <b>failed to fetch using BeautifulSoap</b>"
   ]
  },
  {
   "cell_type": "code",
   "execution_count": 1,
   "metadata": {},
   "outputs": [],
   "source": [
    "from selenium import webdriver\n",
    "from selenium.webdriver.common.by import By #import By class \n",
    "\n",
    "url = 'http://www.webscrapingfordatascience.com/complexjavascript/'\n",
    "# chromedriver should be in the same path as your Python script\n",
    "driver = webdriver.Chrome()\n",
    "driver.get(url)\n",
    "for quote in driver.find_elements(By.CLASS_NAME,'quote'):\n",
    "    print(quote.text)"
   ]
  },
  {
   "attachments": {},
   "cell_type": "markdown",
   "metadata": {},
   "source": [
    "Running above code doesn’t seem to work, as no quotes are displayed at all. The\n",
    "reason for this is because our browser will take some time — even if only half a second —\n",
    "to execute the JavaScript, fetch the quotes, and display them. Meanwhile, our Python\n",
    "script is already hard at work to try to find quote elements, which at that moment are\n",
    "not yet there. We might simply slap in a sleep line in our code to wait a few seconds, but\n",
    "Selenium comes with a more robust approach: <b>wait conditions</b>."
   ]
  },
  {
   "attachments": {},
   "cell_type": "markdown",
   "metadata": {},
   "source": [
    "<h4>SELENIUM WAITS</h4>\n",
    "Selenium provides two types of waits: implicit and explicit.<br>\n",
    "<b>Implicit Waits</b>\n",
    "An implicit wait makes\n",
    "WebDriver poll the page for a certain amount of time every time when trying to locate an\n",
    "element.Think of the implicit wait as a “catch all” where we wait every time when trying\n",
    "to locate an element up to a specified amount of time.By default, the implicit waiting\n",
    "time is set to zero, meaning that Selenium will not wait at all.Implicit waits are helpful when you’re just getting started with Selenium,"
   ]
  },
  {
   "cell_type": "code",
   "execution_count": 3,
   "metadata": {},
   "outputs": [
    {
     "name": "stdout",
     "output_type": "stream",
     "text": [
      "Life is about making an impact, not making an income. -Kevin Kruse\n",
      "Whatever the mind of man can conceive and believe, it can achieve. –Napoleon Hill\n",
      "Strive not to be a success, but rather to be of value. –Albert Einstein\n"
     ]
    }
   ],
   "source": [
    "from selenium import webdriver\n",
    "from selenium.webdriver.common.by import By #import By class \n",
    "\n",
    "url = 'http://www.webscrapingfordatascience.com/complexjavascript/'\n",
    "driver = webdriver.Chrome()\n",
    "# Set an implicit wait\n",
    "driver.implicitly_wait(10)\n",
    "driver.get(url)\n",
    "for quote in driver.find_elements(By.CLASS_NAME,'quote'):\n",
    "    print(quote.text),"
   ]
  },
  {
   "attachments": {},
   "cell_type": "markdown",
   "metadata": {},
   "source": [
    "<b>EXPLICIT Waits</b>\n",
    "<br>\n",
    " we rely on the following imports:\n",
    "<pre>\n",
    "from selenium.webdriver.common.by import By\n",
    "from selenium.webdriver.support.ui import WebDriverWait\n",
    "from selenium.webdriver.support import expected_conditions as EC</pre>"
   ]
  },
  {
   "attachments": {},
   "cell_type": "markdown",
   "metadata": {},
   "source": [
    "This example works as follows. First, we create a WebDriverWait object using our\n",
    "WebDriver and a given amount of seconds we’d like to wait for it. We then call the until\n",
    "method on this object, to which we need to provide a condition object, the predefined\n",
    "<b>presence_of_all_elements_located</b> in our case.  Here, our locator states that we want to find elements by a given CSS selector rule,\n",
    "specifying all elements with a “quote” CSS class but not with a “decode” CSS class, as we\n",
    "want to wait until the JavaScript code on the page is done decoding the quotes.This condition will be checked over and over again until 10 seconds have passed,\n",
    "or until the condition returns something that is not False, that is, the list of matching\n",
    "elements in the case of presence_of_all_elements_located. We can then directly loop\n",
    "over this list and retrieve the quotes’ contents."
   ]
  },
  {
   "cell_type": "code",
   "execution_count": 1,
   "metadata": {},
   "outputs": [
    {
     "name": "stdout",
     "output_type": "stream",
     "text": [
      "Life is about making an impact, not making an income. -Kevin Kruse\n",
      "Whatever the mind of man can conceive and believe, it can achieve. –Napoleon Hill\n",
      "Strive not to be a success, but rather to be of value. –Albert Einstein\n"
     ]
    }
   ],
   "source": [
    "from selenium import webdriver\n",
    "from selenium.webdriver.common.by import By\n",
    "\n",
    "from selenium.webdriver.support.ui import WebDriverWait\n",
    "from selenium.webdriver.support import expected_conditions as EC\n",
    "url = 'http://www.webscrapingfordatascience.com/complexjavascript/'\n",
    "driver = webdriver.Chrome()\n",
    "driver.get(url)\n",
    "quote_elements = WebDriverWait(driver, 10).until(\n",
    "EC.presence_of_all_elements_located((By.CSS_SELECTOR, \".quote:not(.decode)\")))\n",
    "for quote in quote_elements:\n",
    "    print(quote.text)"
   ]
  },
  {
   "attachments": {},
   "cell_type": "markdown",
   "metadata": {},
   "source": [
    "So far, our example only returns the\n",
    "first three quotes. We still need to figure out a way to scroll down in our list of quotes\n",
    "using Selenium in order to load all of them. To do so, Selenium comes with a selection\n",
    "of <b>“actions”</b> that can be performed by the browser, such as clicking elements, clicking\n",
    "and dragging, double-clicking, right-clicking, and so on, which we could use in order to\n",
    "move down the scroll bar. we can use the execute_script method in order to send a JavaScript\n",
    "command to the browser for scrolling."
   ]
  },
  {
   "cell_type": "code",
   "execution_count": 17,
   "metadata": {},
   "outputs": [
    {
     "name": "stdout",
     "output_type": "stream",
     "text": [
      "... now seeing 3 quotes\n",
      "... now seeing 6 quotes\n",
      "... now seeing 9 quotes\n",
      "... now seeing 12 quotes\n",
      "... now seeing 15 quotes\n",
      "... now seeing 18 quotes\n",
      "... now seeing 21 quotes\n",
      "... now seeing 24 quotes\n",
      "... now seeing 27 quotes\n",
      "... now seeing 30 quotes\n",
      "... now seeing 33 quotes\n",
      "... done!\n",
      "33 quotes found\n",
      "\n",
      "Life is about making an impact, not making an income. -Kevin Kruse\n",
      "Whatever the mind of man can conceive and believe, it can achieve. –Napoleon Hill\n",
      "Strive not to be a success, but rather to be of value. –Albert Einstein\n",
      "Two roads diverged in a wood, and I—I took the one less traveled by, And that has made all the difference. –Robert Frost\n",
      "I attribute my success to this: I never gave or took any excuse. –Florence Nightingale\n",
      "You miss 100% of the shots you don’t take. –Wayne Gretzky\n",
      "I've missed more than 9000 shots in my career. I've lost almost 300 games. 26 times I've been trusted to take the game winning shot and missed. I've failed over and over and over again in my life. And that is why I succeed. –Michael Jordan\n",
      "The most difficult thing is the decision to act, the rest is merely tenacity. –Amelia Earhart\n",
      "Every strike brings me closer to the next home run. –Babe Ruth\n",
      "Definiteness of purpose is the starting point of all achievement. –W. Clement Stone\n",
      "Life isn't about getting and having, it's about giving and being. –Kevin Kruse\n",
      "Life is what happens to you while you’re busy making other plans. –John Lennon\n",
      "We become what we think about. –Earl Nightingale\n",
      "Twenty years from now you will be more disappointed by the things that you didn’t do than by the ones you did do, so throw off the bowlines, sail away from safe harbor, catch the trade winds in your sails. Explore, Dream, Discover. –Mark Twain\n",
      "Life is 10% what happens to me and 90% of how I react to it. –Charles Swindoll\n",
      "The most common way people give up their power is by thinking they don’t have any. –Alice Walker\n",
      "The mind is everything. What you think you become. –Buddha\n",
      "The best time to plant a tree was 20 years ago. The second best time is now. –Chinese Proverb\n",
      "An unexamined life is not worth living. –Socrates\n",
      "Eighty percent of success is showing up. –Woody Allen\n",
      "Your time is limited, so don’t waste it living someone else’s life. –Steve Jobs\n",
      "Winning isn’t everything, but wanting to win is. –Vince Lombardi\n",
      "I am not a product of my circumstances. I am a product of my decisions. –Stephen Covey\n",
      "Every child is an artist. The problem is how to remain an artist once he grows up. –Pablo Picasso\n",
      "You can never cross the ocean until you have the courage to lose sight of the shore. –Christopher Columbus\n",
      "I’ve learned that people will forget what you said, people will forget what you did, but people will never forget how you made them feel. –Maya Angelou\n",
      "Either you run the day, or the day runs you. –Jim Rohn\n",
      "Whether you think you can or you think you can’t, you’re right. –Henry Ford\n",
      "The two most important days in your life are the day you are born and the day you find out why. –Mark Twain\n",
      "Whatever you can do, or dream you can, begin it. Boldness has genius, power and magic in it. –Johann Wolfgang von Goethe\n",
      "The best revenge is massive success. –Frank Sinatra\n",
      "People often say that motivation doesn’t last. Well, neither does bathing. That’s why we recommend it daily. –Zig Ziglar\n",
      "Life shrinks or expands in proportion to one's courage. –Anais Nin\n"
     ]
    }
   ],
   "source": [
    "from selenium import webdriver\n",
    "from selenium.webdriver.common.by import By\n",
    "from selenium.webdriver.support.ui import WebDriverWait\n",
    "from selenium.webdriver.support import expected_conditions as EC\n",
    "from selenium.common.exceptions import TimeoutException\n",
    "\n",
    "class at_least_n_elements_found(object):\n",
    "    def __init__(self, locator, n):\n",
    "        self.locator = locator\n",
    "        self.n = n\n",
    "    def __call__(self, driver):\n",
    "        elements = driver.find_elements(*self.locator)\n",
    "        if len(elements) >= self.n:\n",
    "            return elements\n",
    "        else:\n",
    "            return False\n",
    "url = 'http://www.webscrapingfordatascience.com/complexjavascript/'\n",
    "driver = webdriver.Chrome()\n",
    "driver.get(url)\n",
    "# Use an implicit wait for cases where we don't use an explicit one\n",
    "driver.implicitly_wait(10)\n",
    "div_element = driver.find_element(By.CLASS_NAME,'infinite-scroll')\n",
    "quotes_locator = (By.CSS_SELECTOR, \".quote:not(.decode)\") #type webElementObj\n",
    "\n",
    "nr_quotes = 0\n",
    "while True:\n",
    "    # Scroll down to the bottom\n",
    "    driver.execute_script('arguments[0].scrollTop = arguments[0].scrollHeight',div_element)\n",
    "# Try to fetch at least nr_quotes+1 quotes\n",
    "    try:\n",
    "        all_quotes = WebDriverWait(driver, 3).until(at_least_n_elements_found(quotes_locator, nr_quotes + 1))\n",
    "    except TimeoutException as ex:\n",
    "        # No new quotes found within 3 seconds, assume this is all there is\n",
    "        print(\"... done!\")\n",
    "        break\n",
    "    # Otherwise, update the quote counter\n",
    "    nr_quotes = len(all_quotes)\n",
    "    print(\"... now seeing\", nr_quotes, \"quotes\")\n",
    "   \n",
    "# all_quotes will contain all the quote elements\n",
    "print(len(all_quotes), 'quotes found\\n')\n",
    "for quote in all_quotes:\n",
    "    print(quote.text)"
   ]
  },
  {
   "attachments": {},
   "cell_type": "markdown",
   "metadata": {},
   "source": [
    "If you’d like to see how this would work without using JavaScript commands and\n",
    "actions instead, you can take a look at the following fragment (note the two new imports).\n",
    "In the next section, we’ll talk more about interacting with a web page through actions."
   ]
  },
  {
   "cell_type": "code",
   "execution_count": 2,
   "metadata": {},
   "outputs": [
    {
     "name": "stdout",
     "output_type": "stream",
     "text": [
      "... now seeing 6 quotes\n",
      "... now seeing 9 quotes\n",
      "... now seeing 12 quotes\n",
      "... now seeing 15 quotes\n",
      "... now seeing 18 quotes\n",
      "... now seeing 21 quotes\n",
      "... now seeing 24 quotes\n",
      "... now seeing 27 quotes\n",
      "... now seeing 30 quotes\n",
      "... now seeing 33 quotes\n",
      "... done!\n",
      "33 quotes found\n",
      "\n",
      "Life is about making an impact, not making an income. -Kevin Kruse\n",
      "Whatever the mind of man can conceive and believe, it can achieve. –Napoleon Hill\n",
      "Strive not to be a success, but rather to be of value. –Albert Einstein\n",
      "Two roads diverged in a wood, and I—I took the one less traveled by, And that has made all the difference. –Robert Frost\n",
      "I attribute my success to this: I never gave or took any excuse. –Florence Nightingale\n",
      "You miss 100% of the shots you don’t take. –Wayne Gretzky\n",
      "I've missed more than 9000 shots in my career. I've lost almost 300 games. 26 times I've been trusted to take the game winning shot and missed. I've failed over and over and over again in my life. And that is why I succeed. –Michael Jordan\n",
      "The most difficult thing is the decision to act, the rest is merely tenacity. –Amelia Earhart\n",
      "Every strike brings me closer to the next home run. –Babe Ruth\n",
      "Definiteness of purpose is the starting point of all achievement. –W. Clement Stone\n",
      "Life isn't about getting and having, it's about giving and being. –Kevin Kruse\n",
      "Life is what happens to you while you’re busy making other plans. –John Lennon\n",
      "We become what we think about. –Earl Nightingale\n",
      "Twenty years from now you will be more disappointed by the things that you didn’t do than by the ones you did do, so throw off the bowlines, sail away from safe harbor, catch the trade winds in your sails. Explore, Dream, Discover. –Mark Twain\n",
      "Life is 10% what happens to me and 90% of how I react to it. –Charles Swindoll\n",
      "The most common way people give up their power is by thinking they don’t have any. –Alice Walker\n",
      "The mind is everything. What you think you become. –Buddha\n",
      "The best time to plant a tree was 20 years ago. The second best time is now. –Chinese Proverb\n",
      "An unexamined life is not worth living. –Socrates\n",
      "Eighty percent of success is showing up. –Woody Allen\n",
      "Your time is limited, so don’t waste it living someone else’s life. –Steve Jobs\n",
      "Winning isn’t everything, but wanting to win is. –Vince Lombardi\n",
      "I am not a product of my circumstances. I am a product of my decisions. –Stephen Covey\n",
      "Every child is an artist. The problem is how to remain an artist once he grows up. –Pablo Picasso\n",
      "You can never cross the ocean until you have the courage to lose sight of the shore. –Christopher Columbus\n",
      "I’ve learned that people will forget what you said, people will forget what you did, but people will never forget how you made them feel. –Maya Angelou\n",
      "Either you run the day, or the day runs you. –Jim Rohn\n",
      "Whether you think you can or you think you can’t, you’re right. –Henry Ford\n",
      "The two most important days in your life are the day you are born and the day you find out why. –Mark Twain\n",
      "Whatever you can do, or dream you can, begin it. Boldness has genius, power and magic in it. –Johann Wolfgang von Goethe\n",
      "The best revenge is massive success. –Frank Sinatra\n",
      "People often say that motivation doesn’t last. Well, neither does bathing. That’s why we recommend it daily. –Zig Ziglar\n",
      "Life shrinks or expands in proportion to one's courage. –Anais Nin\n"
     ]
    }
   ],
   "source": [
    "from selenium import webdriver\n",
    "from selenium.webdriver.common.by import By\n",
    "from selenium.webdriver.support.ui import WebDriverWait\n",
    "from selenium.webdriver.support import expected_conditions as EC\n",
    "from selenium.common.exceptions import TimeoutException\n",
    "from selenium.webdriver.common.action_chains import ActionChains\n",
    "from selenium.webdriver.common.keys import Keys\n",
    "class at_least_n_elements_found(object):\n",
    "    def __init__(self, locator, n):\n",
    "        self.locator = locator\n",
    "        self.n = n\n",
    "    def __call__(self, driver):\n",
    "        elements = driver.find_elements(*self.locator)\n",
    "        if len(elements) >= self.n:\n",
    "            return elements\n",
    "        else:\n",
    "            return False\n",
    "url = 'http://www.webscrapingfordatascience.com/complexjavascript/'\n",
    "driver = webdriver.Chrome()\n",
    "driver.get(url)\n",
    "# Use an implicit wait for cases where we don't use an explicit one\n",
    "driver.implicitly_wait(10)\n",
    "div_element = driver.find_element(By.CLASS_NAME,'infinite-scroll')\n",
    "quotes_locator = (By.CSS_SELECTOR, \".quote:not(.decode)\")\n",
    "nr_quotes = 0\n",
    "\n",
    "while True:\n",
    "    # Scroll down to the bottom, now using action (chains)\n",
    "    action_chain = ActionChains(driver)\n",
    "    # Move to our quotes block\n",
    "    action_chain.move_to_element(div_element)\n",
    "    # Click it to give it focus\n",
    "    action_chain.click()\n",
    "    # Press the page down key about 10 ten times\n",
    "    action_chain.send_keys([Keys.PAGE_DOWN for i in range(10)])\n",
    "    # Do these actions\n",
    "    action_chain.perform()\n",
    "    # Try to fetch at least nr_quotes+1 quotes\n",
    "    try:\n",
    "        all_quotes = WebDriverWait(driver, 3).until(\n",
    "        at_least_n_elements_found(quotes_locator, nr_quotes + 1) #calls constructor of class at_least_n_elements\n",
    "        )\n",
    "    except TimeoutException as ex:\n",
    "        # No new quotes found within 3 seconds, assume this is all there is\n",
    "        print(\"... done!\")\n",
    "        break\n",
    "    # Otherwise, update the quote counter\n",
    "    nr_quotes = len(all_quotes)\n",
    "    print(\"... now seeing\", nr_quotes, \"quotes\")\n",
    "    # all_quotes will contain all the quote elements\n",
    "print(len(all_quotes), 'quotes found\\n')\n",
    "for quote in all_quotes:\n",
    "    print(quote.text)"
   ]
  },
  {
   "attachments": {},
   "cell_type": "markdown",
   "metadata": {},
   "source": [
    "lets explore the form in <a>\n",
    "http://www.webscrapingfordatascience.com/postform2/</a> using Selenium"
   ]
  },
  {
   "cell_type": "code",
   "execution_count": 27,
   "metadata": {},
   "outputs": [],
   "source": [
    "from selenium import webdriver\n",
    "url = 'http://www.webscrapingfordatascience.com/postform2/'\n",
    "driver = webdriver.Chrome()\n",
    "driver.implicitly_wait(10)\n",
    "driver.get(url)"
   ]
  },
  {
   "attachments": {},
   "cell_type": "markdown",
   "metadata": {},
   "source": [
    "Let’s start by talking a bit more about navigation. We have already seen the get\n",
    "method to navigate to a URL using Selenium. Similarly, you can also call a driver’s\n",
    "forward and back methods (these take no arguments) to go forward and backward in the\n",
    "browser’s history. Regarding cookies, it is helpful to know that — since Selenium uses\n",
    "a real browser — we don’t need to worry about cookie management ourselves. If you\n",
    "want to output the cookies currently available, you can call the get_cookies method on\n",
    "a WebDriver object. The add_cookie method allows you to set a new cookie (it expects a\n",
    "dictionary with “name” and “value” keys as its argument).\n",
    "<br>\n",
    "Every time you retrieve elements using the find_element_by_* and find_elements_\n",
    "by_* methods (or the general-purpose find_element and find_elements methods),\n",
    "Selenium will return WebElement objects. There are a number of interesting methods and\n",
    "attributes you can access for such objects:"
   ]
  },
  {
   "cell_type": "code",
   "execution_count": 1,
   "metadata": {},
   "outputs": [],
   "source": [
    "from selenium import webdriver\n",
    "from selenium.webdriver.support.select import Select\n",
    "from selenium.webdriver.common.keys import Keys\n",
    "from selenium.webdriver.common.by import By \n",
    "\n",
    "url = 'http://www.webscrapingfordatascience.com/postform2/'\n",
    "driver = webdriver.Chrome()\n",
    "driver.implicitly_wait(10)\n",
    "driver.get(url)\n",
    "\n",
    "driver.find_element(By.NAME,'name').send_keys('Qamar') #enter values in name input \n",
    "driver.find_element(By.CSS_SELECTOR,'input[name=\"gender\"][value=\"M\"]').click() #click on the input such as checkbox / radiobuttons\n",
    "\n",
    "driver.find_element(By.NAME,'pizza').click()\n",
    "driver.find_element(By.NAME,'salad').click()\n",
    "Select(driver.find_element(By.NAME,'haircolor')).select_by_value('brown') #select list \n",
    "driver.find_element(By.NAME,'comments').send_keys(['First line', Keys.ENTER, 'Second line']) #textbox #Keys.Enter will creat a new line \n",
    "\n",
    "input('Press ENTER to submit the form')\n",
    "# driver.find_element(By.TAG_NAME,'form').submit()\n",
    "driver.find_element(By.CSS_SELECTOR,'input[type=\"submit\"]').click()\n",
    "\n"
   ]
  },
  {
   "attachments": {},
   "cell_type": "markdown",
   "metadata": {},
   "source": [
    "Instead of working with actions directly as seen above, Selenium also provides an\n",
    "<b>ActionChains object </b>(found under “selenium.webdriver.common.action_chains”) to\n",
    "construct more fine-grained chains of actions. This is useful for doing more complex\n",
    "actions like hover over and drag and drop. The following example is functionally equivalent to the above, but it uses action\n",
    "chains to fill in most of the form fields: "
   ]
  },
  {
   "cell_type": "code",
   "execution_count": 11,
   "metadata": {},
   "outputs": [],
   "source": [
    "from selenium import webdriver\n",
    "from selenium.webdriver.support.select import Select\n",
    "from selenium.webdriver.common.keys import Keys\n",
    "from selenium.webdriver.common.by import By \n",
    "\n",
    "from selenium.webdriver.common.action_chains import ActionChains\n",
    "url = 'http://www.webscrapingfordatascience.com/postform2/'\n",
    "driver = webdriver.Chrome()\n",
    "driver.implicitly_wait(10)\n",
    "driver.get(url)\n",
    "chain = ActionChains(driver)\n",
    "chain.send_keys_to_element(driver.find_element(By.NAME,'name'), 'Seppe')\n",
    "chain.click(driver.find_element(By.CSS_SELECTOR,'input[name=\"gender\"][value=\"M\"]'))\n",
    "chain.click(driver.find_element(By.NAME,'pizza'))\n",
    "chain.click(driver.find_element(By.NAME,'salad'))\n",
    "chain.click(driver.find_element(By.NAME,'comments'))\n",
    "chain.send_keys('This is a first line', Keys.ENTER, 'And this a second') #don't use [] in chains \n",
    "chain.perform()\n",
    "Select(driver.find_element(By.NAME,'haircolor')).select_by_value('brown')\n",
    "# input('Press ENTER to submit the form')\n",
    "driver.find_element(By.TAG_NAME,'form').submit()\n",
    "# Or: driver.find_element_by_css_selector('input[type=\"submit\"]').click()"
   ]
  }
 ],
 "metadata": {
  "kernelspec": {
   "display_name": "Python 3",
   "language": "python",
   "name": "python3"
  },
  "language_info": {
   "codemirror_mode": {
    "name": "ipython",
    "version": 3
   },
   "file_extension": ".py",
   "mimetype": "text/x-python",
   "name": "python",
   "nbconvert_exporter": "python",
   "pygments_lexer": "ipython3",
   "version": "3.10.8 (tags/v3.10.8:aaaf517, Oct 11 2022, 16:50:30) [MSC v.1933 64 bit (AMD64)]"
  },
  "orig_nbformat": 4,
  "vscode": {
   "interpreter": {
    "hash": "61abb1faae53f79e806d9c12619482227edf26d7ba3168cb9b69b001ff4947ea"
   }
  }
 },
 "nbformat": 4,
 "nbformat_minor": 2
}
