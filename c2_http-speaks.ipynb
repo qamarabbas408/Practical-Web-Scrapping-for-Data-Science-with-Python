{
 "cells": [
  {
   "cell_type": "markdown",
   "metadata": {},
   "source": [
    "<h2>Chapter 2 </h2>"
   ]
  },
  {
   "cell_type": "markdown",
   "metadata": {},
   "source": [
    "<h3>Python Libraries for HTTP requests <h3>\n",
    "urlib,\n",
    "httplib2,\n",
    "urllib3,\n",
    "requests,\n",
    "grequests,\n",
    "aiohttps,"
   ]
  },
  {
   "cell_type": "code",
   "execution_count": 2,
   "metadata": {},
   "outputs": [],
   "source": [
    "import requests"
   ]
  },
  {
   "cell_type": "markdown",
   "metadata": {},
   "source": [
    "<h3>HTTP requests happens in a request-reply cycle</h3>. \n",
    "#Request header contains#:\n",
    "• A request line\n",
    "• A number of request headers, each on their own line;\n",
    "• An empty line;\n",
    "• An optional message body, which can also take up multiple lines<br>\n",
    "<br>and Response/reply header contains:\n",
    "• A status line that includes the status code and a status message;\n",
    "• A number of response headers, again all on the same line;\n",
    "• An empty line;\n",
    "• An optional message body."
   ]
  },
  {
   "cell_type": "code",
   "execution_count": 9,
   "metadata": {},
   "outputs": [
    {
     "name": "stdout",
     "output_type": "stream",
     "text": [
      "200\n",
      "OK\n",
      "{'Date': 'Fri, 25 Nov 2022 14:15:27 GMT', 'Server': 'Apache/2.4.41 (Ubuntu)', 'Content-Length': '21', 'Keep-Alive': 'timeout=5, max=100', 'Connection': 'Keep-Alive', 'Content-Type': 'text/html; charset=UTF-8'}\n",
      "<PreparedRequest [GET]>\n",
      "{'User-Agent': 'python-requests/2.28.1', 'Accept-Encoding': 'gzip, deflate', 'Accept': '*/*', 'Connection': 'keep-alive'}\n",
      "python-requests/2.28.1\n",
      "Hello from the web!\n",
      "\n"
     ]
    }
   ],
   "source": [
    "##requests library for HTML requests\n",
    "url='http://www.webscrapingfordatascience.com/basichttp/'\n",
    "r=requests.get(url)\n",
    "print(r.status_code) #returns status code\n",
    "print(r.reason)  #returns textual status of status code 200=OK\n",
    "print(r.headers) #shows reply/response headers\n",
    "print(r.request)  #request method\n",
    "print(r.request.headers) #shows http request headers\n",
    "print(r.request.headers['User-Agent']) #inside request headers\n",
    "print(r.text) # shows content of the webpage"
   ]
  },
  {
   "cell_type": "markdown",
   "metadata": {},
   "source": [
    "<h3>Query String Variable </h3>\n",
    "http:www.somesite.com/newUser?username='a2321'&password='sdfdsf'<br>\n",
    "here username and password are called query string variables"
   ]
  },
  {
   "cell_type": "code",
   "execution_count": 10,
   "metadata": {},
   "outputs": [
    {
     "name": "stdout",
     "output_type": "stream",
     "text": [
      "I don't have any information on \"test\"\n"
     ]
    }
   ],
   "source": [
    "url = 'http://www.webscrapingfordatascience.com/paramhttp/?query=test'\n",
    "r = requests.get(url)\n",
    "print(r.text)\n",
    "# Will show: I don't have any information on \"test"
   ]
  },
  {
   "cell_type": "markdown",
   "metadata": {},
   "source": [
    "requests() encodes URL "
   ]
  },
  {
   "cell_type": "code",
   "execution_count": 14,
   "metadata": {},
   "outputs": [
    {
     "name": "stdout",
     "output_type": "stream",
     "text": [
      "http://www.webscrapingfordatascience.com/paramhttp/?query=complex?&\n",
      "I don't have any information on \"complex?\"\n"
     ]
    }
   ],
   "source": [
    "#request() encodes URL and as well cares about &,= symbols important in query string\n",
    "url = 'http://www.webscrapingfordatascience.com/paramhttp/?query=a query with spaces'\n",
    "complexurl='http://www.webscrapingfordatascience.com/paramhttp/?query=complex?&'\n",
    "r = requests.get(complexurl)\n",
    "# Parameter will be encoded as 'a%20query%20with%20spaces'\n",
    "# You can verify this be looking at the prepared request URL:\n",
    "print(r.request.url)\n",
    "# Will show [...]/paramhttp/?query=a%20query%20with%20spaces\n",
    "print(r.text)\n",
    "# Will show: I don't have any information on \"a query with spaces"
   ]
  },
  {
   "cell_type": "markdown",
   "metadata": {},
   "source": [
    "<b>PROBLEM 1</b> \n",
    "<p>In this case, requests is unsure whether you meant “?&” to belong to the actual\n",
    "URL as is or whether you wanted to encode it. Hence, requests will do nothing and just\n",
    "request the URL as is. On the server-side, this particular web server is able to derive\n",
    "that the second question mark (“?”) should be part of the URL parameter (and should\n",
    "have been properly encoded, but it won’t complain), though the ampersand “&” is too\n",
    "ambiguous in this case. Here, the web server assumes that it is a normal separator and\n",
    "not part of the URL parameter value.</p>"
   ]
  },
  {
   "cell_type": "code",
   "execution_count": 15,
   "metadata": {},
   "outputs": [
    {
     "name": "stdout",
     "output_type": "stream",
     "text": [
      "http://www.webscrapingfordatascience.com/paramhttp/?query=complex?&\n"
     ]
    }
   ],
   "source": [
    "complexurl='http://www.webscrapingfordatascience.com/paramhttp/?query=complex?&'\n",
    "r=requests.get(complexurl)\n",
    "print(r.request.url)"
   ]
  },
  {
   "cell_type": "markdown",
   "metadata": {},
   "source": [
    "<b>Resolving Problem 1</b> It can be resolved using urllib.parse libaray functions quote() and quote_plus(). As long as we make sure that our query parameter does not\n",
    "use slashes, both encoding approaches are valid to be used to encode query strings"
   ]
  },
  {
   "cell_type": "code",
   "execution_count": 16,
   "metadata": {},
   "outputs": [
    {
     "name": "stdout",
     "output_type": "stream",
     "text": [
      "a%20query%20with%20/%2C%20spaces%20and%3F%26\n",
      "a+query+with+%2F%2C+spaces+and%3F%26\n"
     ]
    }
   ],
   "source": [
    "import requests\n",
    "from urllib.parse import quote, quote_plus\n",
    "raw_string = 'a query with /, spaces and?&'\n",
    "print(quote(raw_string)) #it applies percent-encoding but leavaes '/' intact \n",
    "print(quote_plus(raw_string))  # it applies + between spaces and also encodes slashe characters"
   ]
  },
  {
   "cell_type": "markdown",
   "metadata": {},
   "source": [
    "sending query string as parameters dict()"
   ]
  },
  {
   "cell_type": "code",
   "execution_count": 22,
   "metadata": {},
   "outputs": [
    {
     "name": "stdout",
     "output_type": "stream",
     "text": [
      "http://www.webscrapingfordatascience.com/paramhttp/?query=a+query+with+%2F%2C+spaces+and%3F%26&username=abcd&password=1234\n"
     ]
    }
   ],
   "source": [
    "url ='http://www.webscrapingfordatascience.com/paramhttp/'\n",
    "parameters={\n",
    "    'query': 'a query with /, spaces and?&',\n",
    "    'username':'abcd',\n",
    "    'password':1234\n",
    "}\n",
    "r=requests.get(url,params=parameters)\n",
    "print(r.url)\n"
   ]
  },
  {
   "cell_type": "code",
   "execution_count": null,
   "metadata": {},
   "outputs": [],
   "source": [
    "import requests\n",
    "from bs4 import BeautifulSoup\n",
    "url = 'https://en.wikipedia.org/w/index.php' + \\\n",
    "'?title=List_of_Game_of_Thrones_episodes&oldid=802553687'\n",
    "r = requests.get(url)\n",
    "soup=BeautifulSoup(r.text,'html.parser')\n",
    "print(soup)"
   ]
  },
  {
   "cell_type": "code",
   "execution_count": null,
   "metadata": {},
   "outputs": [],
   "source": [
    "import requests\n",
    "def calc(a, b, op):\n",
    "    url = 'http://www.webscrapingfordatascience.com/calchttp/'\n",
    "    params = {'a': a, 'b': b, 'op': op}\n",
    "    r = requests.get(url, params=params)\n",
    "    print(r.request.url)\n",
    "    return r.text\n",
    "print(calc(4, 6, '*'))\n",
    "print(calc(4, 6, '/'))"
   ]
  }
 ],
 "metadata": {
  "kernelspec": {
   "display_name": "Python 3.10.8 64-bit",
   "language": "python",
   "name": "python3"
  },
  "language_info": {
   "codemirror_mode": {
    "name": "ipython",
    "version": 3
   },
   "file_extension": ".py",
   "mimetype": "text/x-python",
   "name": "python",
   "nbconvert_exporter": "python",
   "pygments_lexer": "ipython3",
   "version": "3.10.8"
  },
  "orig_nbformat": 4,
  "vscode": {
   "interpreter": {
    "hash": "61abb1faae53f79e806d9c12619482227edf26d7ba3168cb9b69b001ff4947ea"
   }
  }
 },
 "nbformat": 4,
 "nbformat_minor": 2
}
